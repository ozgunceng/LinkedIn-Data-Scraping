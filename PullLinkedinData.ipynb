{
 "cells": [
  {
   "cell_type": "code",
   "execution_count": 24,
   "metadata": {},
   "outputs": [],
   "source": [
    "from selenium import webdriver\n",
    "from selenium.webdriver.common.keys import Keys\n",
    "from selenium.webdriver.support import expected_conditions as EC\n",
    "from selenium.webdriver.common.by import By\n",
    "from selenium.webdriver.support.wait import WebDriverWait\n",
    "import time "
   ]
  },
  {
   "cell_type": "code",
   "execution_count": 25,
   "metadata": {},
   "outputs": [],
   "source": [
    "driver = webdriver.Chrome(\"D:/chromedriver.exe\")"
   ]
  },
  {
   "cell_type": "code",
   "execution_count": 61,
   "metadata": {},
   "outputs": [],
   "source": [
    "driver.get(\"https://linkedin.com\")"
   ]
  },
  {
   "cell_type": "code",
   "execution_count": 27,
   "metadata": {},
   "outputs": [],
   "source": [
    "time.sleep(2)\n",
    "username = driver.find_element_by_xpath(\"//input[@name='session_key']\")\n",
    "password = driver.find_element_by_xpath(\"//input[@name='session_password']\")\n",
    "username.send_keys(\"ozgun@a-labinsider.com\")\n",
    "password.send_keys(\"og.1743.\")\n",
    "\n",
    "time.sleep(2)\n",
    "\n",
    "submit = driver.find_element_by_xpath(\"//button[@type='submit']\").click()\n",
    "time.sleep(2)\n"
   ]
  },
  {
   "cell_type": "code",
   "execution_count": 62,
   "metadata": {},
   "outputs": [],
   "source": [
    "n_pages = 1 \n",
    "for n in range(0, n_pages):\n",
    "    driver.get(\"https://www.linkedin.com/sales/search/company?companySize=B%2CC%2CD&geoIncluded=100506914%2C101282230&industryIncluded=12&page=\"+str(n)+\"&searchSessionId=qK3LdZQTQtqJgcRb%2FxvZtA%3D%3D\")\n"
   ]
  },
  {
   "cell_type": "code",
   "execution_count": 122,
   "metadata": {},
   "outputs": [],
   "source": [
    "company_list = list()"
   ]
  },
  {
   "cell_type": "code",
   "execution_count": 123,
   "metadata": {},
   "outputs": [
    {
     "name": "stdout",
     "output_type": "stream",
     "text": [
      "0\n",
      "Ÿnsect\n",
      "1\n",
      "Green Biologics Ltd.\n",
      "2\n",
      "BenevolentAI\n",
      "3\n",
      "aucune/none\n",
      "4\n",
      "Cellectis\n",
      "5\n",
      "NIMGenetics\n",
      "6\n",
      "CataloniaBio & HealthTech\n",
      "7\n",
      "France Biotech\n",
      "8\n",
      "Bioemprender\n",
      "9\n",
      "Biocat, BioRegion of Catalonia\n",
      "10\n",
      "Syngene\n",
      "11\n",
      "Biosearch Life\n",
      "12\n",
      "Greentech\n",
      "13\n",
      "Imegen\n",
      "14\n",
      "Asociación Española de Bioempresas\n",
      "15\n",
      "uniQure\n",
      "16\n",
      "Menarini Biotech\n",
      "17\n",
      "Kiadis Pharma\n",
      "18\n",
      "Orphazyme A/S\n",
      "19\n",
      "Technogenetics\n",
      "20\n",
      "atai Life Sciences\n",
      "21\n",
      "UNIVERCELLS\n",
      "22\n",
      "MolMed\n",
      "23\n",
      "AgriProtein\n",
      "24\n",
      "Menarini Silicon Biosystems\n",
      "0\n",
      "REITHERA S.R.L.\n",
      "1\n",
      "NIBRT National Institute for Bioprocessing Research and Training\n",
      "2\n",
      "Voisin Consulting Life Sciences (VCLS)\n",
      "3\n",
      "Lyonbiopôle\n",
      "4\n",
      "Genopole\n",
      "5\n",
      "Notpla\n",
      "6\n",
      "Celyad Oncology\n",
      "7\n",
      "SEIPASA\n",
      "8\n",
      "A4F-Algae for Future\n",
      "9\n",
      "Nordic Bioscience A/S\n",
      "10\n",
      "BIOASTER\n",
      "11\n",
      "iBET - Instituto de Biologia Experimental e Tecnológica\n",
      "12\n",
      "AgriTecno\n",
      "13\n",
      "AlgaEnergy\n",
      "14\n",
      "Exscientia\n",
      "15\n",
      "Novacyt Group\n",
      "16\n",
      "Symborg España y Portugal\n",
      "17\n",
      "Eurasanté\n",
      "18\n",
      "BTSA\n",
      "19\n",
      "AB Vista\n",
      "20\n",
      "BIOSYNEX\n",
      "21\n",
      "Aquaporin A/S\n",
      "22\n",
      "LUMICKS\n",
      "23\n",
      "VIRCELL S.L.\n",
      "24\n",
      "GENFIT\n",
      "0\n",
      "NOVAMEAT\n",
      "1\n",
      "Symphogen\n",
      "2\n",
      "Neogen EMEA\n",
      "3\n",
      "OncoDNA, the cancer theranostic company\n",
      "4\n",
      "Gubra\n",
      "5\n",
      "Healx\n",
      "6\n",
      "Applikon Biotechnology\n",
      "7\n",
      "AGQ Labs España\n",
      "8\n",
      "Solar Foods\n",
      "9\n",
      "Medicines Discovery Catapult\n",
      "10\n",
      "Sensyne Health\n",
      "11\n",
      "Consorzio Italbiotec\n",
      "12\n",
      "DNA Script\n",
      "13\n",
      "Andrew Alliance\n",
      "14\n",
      "Olink Proteomics\n",
      "15\n",
      "EuropaBio - the European Association for Bioindustries\n",
      "16\n",
      "Keen Eye\n",
      "17\n",
      "OSE Immunotherapeutics\n",
      "18\n",
      "CYTENA\n",
      "19\n",
      "BONE THERAPEUTICS S.A.\n",
      "20\n",
      "Gyroscope Therapeutics\n",
      "21\n",
      "BioInnovation Institute\n",
      "22\n",
      "Genethon\n",
      "23\n",
      "Evolva\n",
      "24\n",
      "Congenica\n"
     ]
    }
   ],
   "source": [
    "n_pages = 4\n",
    "for n in range(1, n_pages):\n",
    "    driver.get(\"https://www.linkedin.com/sales/search/company?companySize=B%2CC%2CD&geoIncluded=100506914%2C101282230&industryIncluded=12&page=\"+str(n)+\"&searchSessionId=qK3LdZQTQtqJgcRb%2FxvZtA%3D%3D\")\n",
    "    time.sleep(2)\n",
    "    driver.execute_script(\"window.scrollBy(0,document.body.scrollHeight)\")\n",
    "    time.sleep(2)\n",
    "    all_atag = driver.find_elements_by_tag_name(\"a\")\n",
    "    time.sleep(2)\n",
    "    all_atag = [ s for s in all_atag if s.get_attribute(\"class\")==\"ember-view\"]\n",
    "    time.sleep(2)\n",
    "    counter = 0\n",
    "    for i in all_atag:\n",
    "        print(counter)\n",
    "        company_list.append(i.text)\n",
    "        print(i.text)\n",
    "        counter += 1"
   ]
  },
  {
   "cell_type": "code",
   "execution_count": 124,
   "metadata": {},
   "outputs": [
    {
     "data": {
      "text/plain": [
       "75"
      ]
     },
     "execution_count": 124,
     "metadata": {},
     "output_type": "execute_result"
    }
   ],
   "source": [
    "len(company_list)"
   ]
  },
  {
   "cell_type": "code",
   "execution_count": 125,
   "metadata": {},
   "outputs": [
    {
     "data": {
      "text/plain": [
       "['Ÿnsect',\n",
       " 'Green Biologics Ltd.',\n",
       " 'BenevolentAI',\n",
       " 'aucune/none',\n",
       " 'Cellectis',\n",
       " 'NIMGenetics',\n",
       " 'CataloniaBio & HealthTech',\n",
       " 'France Biotech',\n",
       " 'Bioemprender',\n",
       " 'Biocat, BioRegion of Catalonia',\n",
       " 'Syngene',\n",
       " 'Biosearch Life',\n",
       " 'Greentech',\n",
       " 'Imegen',\n",
       " 'Asociación Española de Bioempresas',\n",
       " 'uniQure',\n",
       " 'Menarini Biotech',\n",
       " 'Kiadis Pharma',\n",
       " 'Orphazyme A/S',\n",
       " 'Technogenetics',\n",
       " 'atai Life Sciences',\n",
       " 'UNIVERCELLS',\n",
       " 'MolMed',\n",
       " 'AgriProtein',\n",
       " 'Menarini Silicon Biosystems',\n",
       " 'REITHERA S.R.L.',\n",
       " 'NIBRT National Institute for Bioprocessing Research and Training',\n",
       " 'Voisin Consulting Life Sciences (VCLS)',\n",
       " 'Lyonbiopôle',\n",
       " 'Genopole',\n",
       " 'Notpla',\n",
       " 'Celyad Oncology',\n",
       " 'SEIPASA',\n",
       " 'A4F-Algae for Future',\n",
       " 'Nordic Bioscience A/S',\n",
       " 'BIOASTER',\n",
       " 'iBET - Instituto de Biologia Experimental e Tecnológica',\n",
       " 'AgriTecno',\n",
       " 'AlgaEnergy',\n",
       " 'Exscientia',\n",
       " 'Novacyt Group',\n",
       " 'Symborg España y Portugal',\n",
       " 'Eurasanté',\n",
       " 'BTSA',\n",
       " 'AB Vista',\n",
       " 'BIOSYNEX',\n",
       " 'Aquaporin A/S',\n",
       " 'LUMICKS',\n",
       " 'VIRCELL S.L.',\n",
       " 'GENFIT',\n",
       " 'NOVAMEAT',\n",
       " 'Symphogen',\n",
       " 'Neogen EMEA',\n",
       " 'OncoDNA, the cancer theranostic company',\n",
       " 'Gubra',\n",
       " 'Healx',\n",
       " 'Applikon Biotechnology',\n",
       " 'AGQ Labs España',\n",
       " 'Solar Foods',\n",
       " 'Medicines Discovery Catapult',\n",
       " 'Sensyne Health',\n",
       " 'Consorzio Italbiotec',\n",
       " 'DNA Script',\n",
       " 'Andrew Alliance',\n",
       " 'Olink Proteomics',\n",
       " 'EuropaBio - the European Association for Bioindustries',\n",
       " 'Keen Eye',\n",
       " 'OSE Immunotherapeutics',\n",
       " 'CYTENA',\n",
       " 'BONE THERAPEUTICS S.A.',\n",
       " 'Gyroscope Therapeutics',\n",
       " 'BioInnovation Institute',\n",
       " 'Genethon',\n",
       " 'Evolva',\n",
       " 'Congenica']"
      ]
     },
     "execution_count": 125,
     "metadata": {},
     "output_type": "execute_result"
    }
   ],
   "source": [
    "company_list"
   ]
  },
  {
   "cell_type": "code",
   "execution_count": null,
   "metadata": {},
   "outputs": [],
   "source": []
  },
  {
   "cell_type": "code",
   "execution_count": null,
   "metadata": {},
   "outputs": [],
   "source": []
  },
  {
   "cell_type": "code",
   "execution_count": 99,
   "metadata": {},
   "outputs": [
    {
     "name": "stdout",
     "output_type": "stream",
     "text": [
      "54\n",
      "NOVAMEAT\n",
      "54\n",
      "Symphogen\n",
      "54\n",
      "Neogen EMEA\n",
      "54\n",
      "OncoDNA, the cancer theranostic company\n",
      "54\n",
      "Gubra\n",
      "54\n",
      "Healx\n",
      "54\n",
      "Applikon Biotechnology\n",
      "54\n",
      "AGQ Labs España\n",
      "54\n",
      "Solar Foods\n"
     ]
    }
   ],
   "source": [
    " for i in all_atag:\n",
    "        print(counter)\n",
    "        print(i.text)"
   ]
  },
  {
   "cell_type": "code",
   "execution_count": 75,
   "metadata": {},
   "outputs": [
    {
     "data": {
      "text/plain": [
       "4"
      ]
     },
     "execution_count": 75,
     "metadata": {},
     "output_type": "execute_result"
    }
   ],
   "source": [
    "len(all_atag)"
   ]
  },
  {
   "cell_type": "code",
   "execution_count": 43,
   "metadata": {},
   "outputs": [
    {
     "name": "stdout",
     "output_type": "stream",
     "text": [
      "0\n",
      "Ÿnsect\n",
      "1\n",
      "Green Biologics Ltd.\n",
      "2\n",
      "BenevolentAI\n",
      "3\n",
      "aucune/none\n",
      "4\n",
      "Cellectis\n",
      "5\n",
      "NIMGenetics\n",
      "6\n",
      "CataloniaBio & HealthTech\n",
      "7\n",
      "France Biotech\n",
      "8\n",
      "Bioemprender\n",
      "9\n",
      "Biocat, BioRegion of Catalonia\n",
      "10\n",
      "Syngene\n",
      "11\n",
      "Biosearch Life\n",
      "12\n",
      "Greentech\n",
      "13\n",
      "Imegen\n",
      "14\n",
      "Asociación Española de Bioempresas\n",
      "15\n",
      "uniQure\n",
      "16\n",
      "Menarini Biotech\n",
      "17\n",
      "Kiadis Pharma\n",
      "18\n",
      "Orphazyme A/S\n",
      "19\n",
      "Technogenetics\n",
      "20\n",
      "atai Life Sciences\n",
      "21\n",
      "UNIVERCELLS\n",
      "22\n",
      "MolMed\n",
      "23\n",
      "AgriProtein\n",
      "24\n",
      "Menarini Silicon Biosystems\n"
     ]
    }
   ],
   "source": [
    "time.sleep(2)\n",
    "all_atag = driver.find_elements_by_tag_name(\"a\")\n",
    "all_atag = [ s for s in all_atag if s.get_attribute(\"class\")==\"ember-view\"]\n",
    "counter = 0\n",
    "\n",
    "for i in all_atag:\n",
    "    print(counter)\n",
    "    company_list.append(i.text)\n",
    "    print(i.text)\n",
    "    counter += 1\n",
    "\n",
    "    \n"
   ]
  },
  {
   "cell_type": "code",
   "execution_count": null,
   "metadata": {},
   "outputs": [],
   "source": []
  },
  {
   "cell_type": "raw",
   "metadata": {},
   "source": [
    "   \n",
    "  json böyle oluşturdum liste yapıp içine save et \n",
    "   def NewBookLoan():\n",
    "        #Creating JSON database\n",
    "        with open('new_Book_Loan.json', 'w') as k:\n",
    "            json.dump(new_Book_Loan, k) "
   ]
  },
  {
   "cell_type": "markdown",
   "metadata": {},
   "source": [
    "sonra tek tek jsondan alınıp search edilecek"
   ]
  },
  {
   "cell_type": "raw",
   "metadata": {},
   "source": [
    "for i in range (0,len(data2)):\n",
    "    k=data2[i][0]\n",
    "    for a in range(len(data2)):\n",
    "        if (k == data2[a][0]):\n",
    "            new_Book_Loan[i]= { \"Book ID\":data2[i][0], \"Book Name\": data2[i][1],\"Availability\": \"Yes\", \"Check\": 0 ,\"Loaned User\": \" \", \"Last User\": \" \",\"Status\": \" \", \"Reserved To\": \" \" }\n"
   ]
  },
  {
   "cell_type": "code",
   "execution_count": 4,
   "metadata": {},
   "outputs": [],
   "source": [
    "company_list = list()"
   ]
  },
  {
   "cell_type": "code",
   "execution_count": 41,
   "metadata": {},
   "outputs": [],
   "source": [
    "company_list = list()\n",
    "\n",
    "for i in all_atag:\n",
    "    for a in deneme:\n",
    "        \n",
    "        print(counter)\n",
    "        print(i.text)\n",
    "        company_list.append(i.text)\n",
    "        counter += 1"
   ]
  },
  {
   "cell_type": "code",
   "execution_count": 47,
   "metadata": {},
   "outputs": [
    {
     "data": {
      "text/plain": [
       "['Ÿnsect',\n",
       " 'Green Biologics Ltd.',\n",
       " 'BenevolentAI',\n",
       " 'aucune/none',\n",
       " 'Cellectis',\n",
       " 'NIMGenetics',\n",
       " 'CataloniaBio & HealthTech',\n",
       " 'France Biotech',\n",
       " 'Bioemprender',\n",
       " 'Biocat, BioRegion of Catalonia',\n",
       " 'Syngene',\n",
       " 'Biosearch Life',\n",
       " 'Greentech',\n",
       " 'Imegen',\n",
       " 'Asociación Española de Bioempresas',\n",
       " 'uniQure',\n",
       " 'Menarini Biotech',\n",
       " 'Kiadis Pharma',\n",
       " 'Orphazyme A/S',\n",
       " 'Technogenetics',\n",
       " 'atai Life Sciences',\n",
       " 'UNIVERCELLS',\n",
       " 'MolMed',\n",
       " 'AgriProtein',\n",
       " 'Menarini Silicon Biosystems',\n",
       " 'Ÿnsect',\n",
       " 'Green Biologics Ltd.',\n",
       " 'BenevolentAI',\n",
       " 'aucune/none',\n",
       " 'Cellectis',\n",
       " 'NIMGenetics']"
      ]
     },
     "execution_count": 47,
     "metadata": {},
     "output_type": "execute_result"
    }
   ],
   "source": [
    "company_list\n"
   ]
  },
  {
   "cell_type": "code",
   "execution_count": null,
   "metadata": {},
   "outputs": [],
   "source": []
  }
 ],
 "metadata": {
  "kernelspec": {
   "display_name": "Python 3",
   "language": "python",
   "name": "python3"
  },
  "language_info": {
   "codemirror_mode": {
    "name": "ipython",
    "version": 3
   },
   "file_extension": ".py",
   "mimetype": "text/x-python",
   "name": "python",
   "nbconvert_exporter": "python",
   "pygments_lexer": "ipython3",
   "version": "3.7.7"
  }
 },
 "nbformat": 4,
 "nbformat_minor": 4
}
